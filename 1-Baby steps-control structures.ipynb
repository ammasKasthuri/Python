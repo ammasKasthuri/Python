{
 "cells": [
  {
   "cell_type": "code",
   "execution_count": 1,
   "id": "14d386e1",
   "metadata": {},
   "outputs": [
    {
     "name": "stdout",
     "output_type": "stream",
     "text": [
      "Welcome to Assignment-1\n"
     ]
    }
   ],
   "source": [
    "print(\"Welcome to Assignment-1\")"
   ]
  },
  {
   "cell_type": "code",
   "execution_count": 7,
   "id": "931901af",
   "metadata": {},
   "outputs": [
    {
     "name": "stdout",
     "output_type": "stream",
     "text": [
      "Num1= 10\n",
      "Num2= 30\n",
      "Add= 40\n"
     ]
    }
   ],
   "source": [
    "Num1=10\n",
    "print(\"Num1=\",Num1)\n",
    "Num2=30\n",
    "print(\"Num2=\",Num2)\n",
    "add=Num1+Num2\n",
    "print(\"Add=\",add)"
   ]
  },
  {
   "cell_type": "code",
   "execution_count": 13,
   "id": "b01dedce",
   "metadata": {},
   "outputs": [
    {
     "name": "stdout",
     "output_type": "stream",
     "text": [
      "Enter the BMI Index:34\n",
      "Very Overweight\n"
     ]
    }
   ],
   "source": [
    "BMI=float(input(\"Enter the BMI Index:\"))\n",
    "\n",
    "if(BMI<18.5):\n",
    "  print(\"Under weight\")\n",
    "elif(BMI<24.9):\n",
    "    print(\"Healthy\")\n",
    "elif(BMI<40):\n",
    "    print(\"Very Overweight\")\n",
    "else:\n",
    "    print(\"Obese\")\n"
   ]
  },
  {
   "cell_type": "code",
   "execution_count": null,
   "id": "04617458",
   "metadata": {},
   "outputs": [],
   "source": []
  }
 ],
 "metadata": {
  "kernelspec": {
   "display_name": "Python 3 (ipykernel)",
   "language": "python",
   "name": "python3"
  },
  "language_info": {
   "codemirror_mode": {
    "name": "ipython",
    "version": 3
   },
   "file_extension": ".py",
   "mimetype": "text/x-python",
   "name": "python",
   "nbconvert_exporter": "python",
   "pygments_lexer": "ipython3",
   "version": "3.9.12"
  }
 },
 "nbformat": 4,
 "nbformat_minor": 5
}
